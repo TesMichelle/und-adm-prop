{
 "cells": [
  {
   "cell_type": "code",
   "execution_count": 5,
   "id": "excess-binary",
   "metadata": {},
   "outputs": [],
   "source": [
    "from sim import one_pulse\n",
    "from proportions import one_pulse_estimator"
   ]
  },
  {
   "cell_type": "code",
   "execution_count": 6,
   "id": "monetary-butter",
   "metadata": {},
   "outputs": [],
   "source": [
    "ts = one_pulse(15, 0.3)\n",
    "exp = one_pulse_estimator(1000, ts=ts) "
   ]
  },
  {
   "cell_type": "code",
   "execution_count": 7,
   "id": "bound-external",
   "metadata": {},
   "outputs": [
    {
     "data": {
      "text/plain": [
       "array([15.92775862])"
      ]
     },
     "execution_count": 7,
     "metadata": {},
     "output_type": "execute_result"
    }
   ],
   "source": [
    "exp.estimate()"
   ]
  },
  {
   "cell_type": "code",
   "execution_count": null,
   "id": "scheduled-trade",
   "metadata": {},
   "outputs": [],
   "source": []
  }
 ],
 "metadata": {
  "kernelspec": {
   "display_name": "Python 3",
   "language": "python",
   "name": "python3"
  },
  "language_info": {
   "codemirror_mode": {
    "name": "ipython",
    "version": 3
   },
   "file_extension": ".py",
   "mimetype": "text/x-python",
   "name": "python",
   "nbconvert_exporter": "python",
   "pygments_lexer": "ipython3",
   "version": "3.9.2"
  }
 },
 "nbformat": 4,
 "nbformat_minor": 5
}
